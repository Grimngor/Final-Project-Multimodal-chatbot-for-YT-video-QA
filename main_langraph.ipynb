{
 "cells": [
  {
   "cell_type": "markdown",
   "metadata": {},
   "source": [
    "# Multimodal Chatbot for YouTube Video QA"
   ]
  },
  {
   "cell_type": "code",
   "execution_count": null,
   "metadata": {},
   "outputs": [],
   "source": [
    "#!pip install -U yt-dlp\n",
    "#!pip install -U opencv-python\n",
    "#!pip install -U pinecone\n",
    "#!pip install -U youtube-transcript-api\n",
    "#!pip install -U langchain\n",
    "#!pip install -U langchain_core\n",
    "#!pip install -U langchain_openai\n",
    "#!pip install -U langchain-community\n",
    "#!pip install -U langchain-pinecone\n",
    "#!pip install -U langgraph\n",
    "#!pip install -U python-dotenv\n",
    "#!pip install -U  youtube-transcript-api\n",
    "#!pip install -U pytube\n",
    "#!pip install -U pandas\n",
    "#!pip install -U langsmith"
   ]
  },
  {
   "cell_type": "markdown",
   "metadata": {},
   "source": [
    "## Importing libraries"
   ]
  },
  {
   "cell_type": "code",
   "execution_count": 43,
   "metadata": {},
   "outputs": [],
   "source": [
    "import os\n",
    "import ast\n",
    "import time\n",
    "import uuid\n",
    "import torch\n",
    "import pandas as pd\n",
    "import gradio as gr\n",
    "from yt_dlp import YoutubeDL\n",
    "from typing import Literal, Annotated, List, Sequence\n",
    "from typing_extensions import TypedDict\n",
    "from pinecone import Pinecone, ServerlessSpec\n",
    "from langchain_pinecone import PineconeVectorStore\n",
    "from langchain_openai import OpenAIEmbeddings, ChatOpenAI\n",
    "from langchain_community.document_loaders import YoutubeLoader\n",
    "from langchain_community.document_loaders.youtube import TranscriptFormat\n",
    "from langchain.tools.retriever import create_retriever_tool\n",
    "from langchain_core.messages import BaseMessage, HumanMessage, AIMessage\n",
    "from langchain_core.prompts import ChatPromptTemplate\n",
    "from langchain_core.output_parsers import StrOutputParser\n",
    "from langchain_core.documents.base import Document\n",
    "from langchain_text_splitters import RecursiveCharacterTextSplitter\n",
    "from langgraph.graph import StateGraph, START, END\n",
    "from langgraph.graph.message import add_messages\n",
    "from langgraph.checkpoint.memory import MemorySaver\n",
    "from IPython.display import Image, display\n",
    "from pydantic import BaseModel, Field\n",
    "from tqdm.auto import tqdm\n",
    "from pprint import pprint\n",
    "from dotenv import load_dotenv, find_dotenv"
   ]
  },
  {
   "cell_type": "markdown",
   "metadata": {},
   "source": [
    "### Initialization"
   ]
  },
  {
   "cell_type": "code",
   "execution_count": 44,
   "metadata": {},
   "outputs": [],
   "source": [
    "_ = load_dotenv(find_dotenv())\n",
    "\n",
    "OPENAI_API_KEY  = os.getenv('OPENAI_API_KEY')\n",
    "PINECONE_API_KEY = os.getenv(\"PINECONE_API_KEY\")\n",
    "LANGCHAIN_API_KEY = os.getenv(\"LANGCHAIN_API_KEY\")\n",
    "\n",
    "LANGCHAIN_TRACING_V2=True\n",
    "LANGCHAIN_ENDPOINT=\"https://api.smith.langchain.com\"\n",
    "LANGCHAIN_PROJECT=\"Final_Project\"\n",
    "\n",
    "# not sure if it's working without moving the embedding model to the gpu (embedding_model.to(device)\n",
    "device = torch.device('cuda' if torch.cuda.is_available() else 'cpu')\n",
    "\n",
    "llm = ChatOpenAI(model=\"gpt-4o-mini\", temperature=0.0, streaming=True, openai_api_key=OPENAI_API_KEY)"
   ]
  },
  {
   "cell_type": "markdown",
   "metadata": {},
   "source": [
    "## Loading YouTube Videos"
   ]
  },
  {
   "cell_type": "markdown",
   "metadata": {},
   "source": [
    "### Processing the data and adding metadata"
   ]
  },
  {
   "cell_type": "code",
   "execution_count": 45,
   "metadata": {},
   "outputs": [],
   "source": [
    "# TODO: Load from a CSV or JSON\n",
    "# Dictionary of YouTube video URLs\n",
    "yt_vids = [\n",
    "    {\n",
    "        \"short_title\": \"5ECharacter_WASD20\",\n",
    "        \"url\": \"https://youtu.be/ZcNgj0KPYuA?si=hYnXDcf0AUIsbyuR\",\n",
    "        \"channel\": \"WASD20\",\n",
    "        \"topic\": \"StepByStep\",\n",
    "    },\n",
    "    {\n",
    "        \"short_title\": \"2024Character_LazyDM\",\n",
    "        \"url\": \"https://www.youtube.com/watch?v=BHPuUsuZtaY\",\n",
    "        \"channel\": \"LazyDM\",\n",
    "        \"topic\": \"StepByStep\",\n",
    "    },\n",
    "    {\n",
    "        \"short_title\": \"2024Character_GinnyDi\",\n",
    "        \"url\": \"https://youtu.be/TkJjy7WwrVM?si=3sAQlJyeoCYsmaPI\",\n",
    "        \"channel\": \"GinnyDi\",\n",
    "        \"topic\": \"StepByStep\",\n",
    "    },\n",
    "    {\n",
    "        \"short_title\": \"CharPersonality_GinnyDi\",\n",
    "        \"url\": \"https://youtu.be/pHPa7HwLkws?si=LZ1KZOditMxk4PKU\",\n",
    "        \"channel\": \"GinnyDi\",\n",
    "        \"topic\": \"Personality\",\n",
    "    },\n",
    "    {\n",
    "        \"short_title\": \"WhatMakesAGoodCharacter_PointyHat\",\n",
    "        \"url\": \"https://youtu.be/LLVJrK22gVA?si=V6_0nEFP3vo2JwAA\",\n",
    "        \"channel\": \"PointyHat\",\n",
    "        \"topic\": \"Personality\",\n",
    "    },\n",
    "    {\n",
    "        \"short_title\": \"CharactersWithDrawback_PointyHat\",\n",
    "        \"url\": \"https://youtu.be/HMR5zL5oTLw?si=qfyPyrKbVZ89-7fz\",\n",
    "        \"channel\": \"PointyHat\",\n",
    "        \"topic\": \"Personality\",\n",
    "    },\n",
    "    {\n",
    "        \"short_title\": \"MakingCharacters_M.Colville\",\n",
    "        \"url\": \"https://youtu.be/0K9mKpAMREU?si=FsVN66HLFW-zwKoj\",\n",
    "        \"channel\": \"M.Colville\",\n",
    "        \"topic\": \"General\",\n",
    "    },\n",
    "]"
   ]
  },
  {
   "cell_type": "code",
   "execution_count": 46,
   "metadata": {},
   "outputs": [],
   "source": [
    "# Function to fetch metadata with yt-dlp\n",
    "def get_video_metadata(url):\n",
    "    ydl_opts = {\"quiet\": True, \"skip_download\": True, \"format\": \"best\"}\n",
    "    with YoutubeDL(ydl_opts) as ydl:\n",
    "        info = ydl.extract_info(url, download=False)\n",
    "        video_id = info.get(\"id\")\n",
    "        title = info.get(\"title\")\n",
    "        description = info.get(\"description\")\n",
    "    return video_id, title, description"
   ]
  },
  {
   "cell_type": "markdown",
   "metadata": {},
   "source": [
    "### Creating a DataFrame with relevant Metadata"
   ]
  },
  {
   "cell_type": "code",
   "execution_count": 47,
   "metadata": {},
   "outputs": [
    {
     "data": {
      "application/vnd.jupyter.widget-view+json": {
       "model_id": "5ad1e9bfe5174b1ab32e87fba12fbcbc",
       "version_major": 2,
       "version_minor": 0
      },
      "text/plain": [
       "Processing videos:   0%|          | 0/7 [00:00<?, ?it/s]"
      ]
     },
     "metadata": {},
     "output_type": "display_data"
    }
   ],
   "source": [
    "device = torch.device('cpu') # Fails on GPU\n",
    "\n",
    "# List to store rows for the DataFrame\n",
    "rows = []\n",
    "\n",
    "# Process each video and build the DataFrame row by row\n",
    "for video in tqdm(yt_vids, desc=\"Processing videos\"):\n",
    "    url = video[\"url\"]\n",
    "    video_id, title, description = get_video_metadata(url)\n",
    "    \n",
    "    loader = YoutubeLoader.from_youtube_url(\n",
    "        url,\n",
    "        add_video_info=False,  # Avoids using PyTube for title to prevent crashes\n",
    "        transcript_format=TranscriptFormat.TEXT,\n",
    "    )\n",
    "    \n",
    "    # Load the transcript documents (chunks)\n",
    "    transcript = loader.load()\n",
    "    \n",
    "    # Split documents into manageable chunks\n",
    "    text_splitter = RecursiveCharacterTextSplitter(chunk_size=2000, chunk_overlap=200)\n",
    "    splits = text_splitter.split_documents(transcript)\n",
    "    \n",
    "    # Append the data as a new row\n",
    "    rows.append({\n",
    "        \"video_id\": video_id,\n",
    "        \"short_title\": video[\"short_title\"],\n",
    "        \"title\": title,\n",
    "        \"description\": description,\n",
    "        \"channel\": video[\"channel\"],\n",
    "        \"topic\": video[\"topic\"],\n",
    "        \"chunks\": splits  # Store chunked docs directly in this column\n",
    "    })\n",
    "\n",
    "# Create the DataFrame directly from the list of rows\n",
    "video_df = pd.DataFrame(rows)\n",
    "book_df = pd.read_csv('./data/combined_docs_final.csv')\n",
    "book_df.dropna(subset=['page_content'], inplace=True)\n",
    "\n",
    "device = torch.device('cuda' if torch.cuda.is_available() else 'cpu') # Assign it back to cuda"
   ]
  },
  {
   "cell_type": "code",
   "execution_count": 48,
   "metadata": {},
   "outputs": [
    {
     "data": {
      "text/html": [
       "<div>\n",
       "<style scoped>\n",
       "    .dataframe tbody tr th:only-of-type {\n",
       "        vertical-align: middle;\n",
       "    }\n",
       "\n",
       "    .dataframe tbody tr th {\n",
       "        vertical-align: top;\n",
       "    }\n",
       "\n",
       "    .dataframe thead th {\n",
       "        text-align: right;\n",
       "    }\n",
       "</style>\n",
       "<table border=\"1\" class=\"dataframe\">\n",
       "  <thead>\n",
       "    <tr style=\"text-align: right;\">\n",
       "      <th></th>\n",
       "      <th>page_number</th>\n",
       "      <th>chapter</th>\n",
       "      <th>page_content</th>\n",
       "      <th>tables_html</th>\n",
       "    </tr>\n",
       "  </thead>\n",
       "  <tbody>\n",
       "    <tr>\n",
       "      <th>163</th>\n",
       "      <td>164</td>\n",
       "      <td>CHAPTER 3 | CHARACTER CLASSES</td>\n",
       "      <td>WIZARD FEATURES:\\n\\n \\nProficiency:\\n\\n \\nnan:...</td>\n",
       "      <td>{}</td>\n",
       "    </tr>\n",
       "    <tr>\n",
       "      <th>115</th>\n",
       "      <td>116</td>\n",
       "      <td>CHAPTER 3 | CHARACTER CLASSES</td>\n",
       "      <td>nan:\\n\\n \\nnan:\\n\\n \\nnan:\\n\\n \\nnan:\\n\\n \\nna...</td>\n",
       "      <td>{}</td>\n",
       "    </tr>\n",
       "    <tr>\n",
       "      <th>13</th>\n",
       "      <td>14</td>\n",
       "      <td>CHAPTER 1 | PLAYING THE GAME</td>\n",
       "      <td>SOCIAL INTERACTION EXAMPLE:\\nIn this scene, pl...</td>\n",
       "      <td>{}</td>\n",
       "    </tr>\n",
       "    <tr>\n",
       "      <th>99</th>\n",
       "      <td>100</td>\n",
       "      <td>CHAPTER 3 | CHARACTER CLASSES</td>\n",
       "      <td>MONK FEATURES:\\n\\n \\nProficiency:\\n\\n \\nLevel ...</td>\n",
       "      <td>{}</td>\n",
       "    </tr>\n",
       "    <tr>\n",
       "      <th>322</th>\n",
       "      <td>323</td>\n",
       "      <td>CHAPTER 7 | SPELLS</td>\n",
       "      <td>Draconic Spirit:\\n\\n \\n(Coo:\\n\\n \\nDRACONIC SP...</td>\n",
       "      <td>{}</td>\n",
       "    </tr>\n",
       "    <tr>\n",
       "      <th>171</th>\n",
       "      <td>172</td>\n",
       "      <td>CHAPTER 3 | CHARACTER CLASSES</td>\n",
       "      <td>nan:\\n\\n \\nnan:\\n\\n \\nnan:\\n\\n \\nnan:\\n\\n \\nFY...</td>\n",
       "      <td>{}</td>\n",
       "    </tr>\n",
       "    <tr>\n",
       "      <th>314</th>\n",
       "      <td>315</td>\n",
       "      <td>CHAPTER 7 | SPELLS</td>\n",
       "      <td>nan:\\n\\n \\nSitent IMAGE CAN:\\n\\n \\nCONCOCT ILL...</td>\n",
       "      <td>{}</td>\n",
       "    </tr>\n",
       "    <tr>\n",
       "      <th>313</th>\n",
       "      <td>314</td>\n",
       "      <td>CHAPTER 7 | SPELLS</td>\n",
       "      <td>SHATTER:\\n\\n \\nLevel 2 Evocation (Bard, Sorcer...</td>\n",
       "      <td>{}</td>\n",
       "    </tr>\n",
       "    <tr>\n",
       "      <th>128</th>\n",
       "      <td>129</td>\n",
       "      <td>CHAPTER 3 | CHARACTER CLASSES</td>\n",
       "      <td>Withdraw (Cost: Id6). Immediately after the at...</td>\n",
       "      <td>{}</td>\n",
       "    </tr>\n",
       "    <tr>\n",
       "      <th>24</th>\n",
       "      <td>25</td>\n",
       "      <td>CHAPTER 1 | PLAYING THE GAME</td>\n",
       "      <td>nan:\\n\\n \\nnan:\\n\\n \\nASTRIOE AGIAN’:\\n\\n \\nSE...</td>\n",
       "      <td>{}</td>\n",
       "    </tr>\n",
       "  </tbody>\n",
       "</table>\n",
       "</div>"
      ],
      "text/plain": [
       "     page_number                        chapter  \\\n",
       "163          164  CHAPTER 3 | CHARACTER CLASSES   \n",
       "115          116  CHAPTER 3 | CHARACTER CLASSES   \n",
       "13            14   CHAPTER 1 | PLAYING THE GAME   \n",
       "99           100  CHAPTER 3 | CHARACTER CLASSES   \n",
       "322          323             CHAPTER 7 | SPELLS   \n",
       "171          172  CHAPTER 3 | CHARACTER CLASSES   \n",
       "314          315             CHAPTER 7 | SPELLS   \n",
       "313          314             CHAPTER 7 | SPELLS   \n",
       "128          129  CHAPTER 3 | CHARACTER CLASSES   \n",
       "24            25   CHAPTER 1 | PLAYING THE GAME   \n",
       "\n",
       "                                          page_content tables_html  \n",
       "163  WIZARD FEATURES:\\n\\n \\nProficiency:\\n\\n \\nnan:...          {}  \n",
       "115  nan:\\n\\n \\nnan:\\n\\n \\nnan:\\n\\n \\nnan:\\n\\n \\nna...          {}  \n",
       "13   SOCIAL INTERACTION EXAMPLE:\\nIn this scene, pl...          {}  \n",
       "99   MONK FEATURES:\\n\\n \\nProficiency:\\n\\n \\nLevel ...          {}  \n",
       "322  Draconic Spirit:\\n\\n \\n(Coo:\\n\\n \\nDRACONIC SP...          {}  \n",
       "171  nan:\\n\\n \\nnan:\\n\\n \\nnan:\\n\\n \\nnan:\\n\\n \\nFY...          {}  \n",
       "314  nan:\\n\\n \\nSitent IMAGE CAN:\\n\\n \\nCONCOCT ILL...          {}  \n",
       "313  SHATTER:\\n\\n \\nLevel 2 Evocation (Bard, Sorcer...          {}  \n",
       "128  Withdraw (Cost: Id6). Immediately after the at...          {}  \n",
       "24   nan:\\n\\n \\nnan:\\n\\n \\nASTRIOE AGIAN’:\\n\\n \\nSE...          {}  "
      ]
     },
     "execution_count": 48,
     "metadata": {},
     "output_type": "execute_result"
    }
   ],
   "source": [
    "# Display the DataFrame\n",
    "book_df.sample(10)"
   ]
  },
  {
   "cell_type": "markdown",
   "metadata": {},
   "source": [
    "## Creating Pinecone Index"
   ]
  },
  {
   "cell_type": "code",
   "execution_count": 49,
   "metadata": {},
   "outputs": [],
   "source": [
    "# configure client\n",
    "pc = Pinecone(api_key=PINECONE_API_KEY)\n",
    "index_name = \"dnd-qa-index\""
   ]
  },
  {
   "cell_type": "code",
   "execution_count": null,
   "metadata": {},
   "outputs": [],
   "source": [
    "# Delete the index if creating it from scratch is needed.\n",
    "#pc.delete_index(index_name)"
   ]
  },
  {
   "cell_type": "code",
   "execution_count": 53,
   "metadata": {},
   "outputs": [],
   "source": [
    "# check if index already exists (it shouldn't if this is first time)\n",
    "if index_name not in pc.list_indexes().names():\n",
    "    # if does not exist, create index\n",
    "    pc.create_index(\n",
    "        index_name,\n",
    "        dimension=1536, # OpenAI's ADA embedding model'\n",
    "        metric='cosine',\n",
    "        spec=ServerlessSpec(cloud='aws', region='us-east-1')\n",
    "    )\n",
    "    # wait for index to be initialized\n",
    "    while not pc.describe_index(index_name).status['ready']:\n",
    "        time.sleep(1)"
   ]
  },
  {
   "cell_type": "markdown",
   "metadata": {},
   "source": [
    "### Initializing Vectorstore and Embedding model"
   ]
  },
  {
   "cell_type": "code",
   "execution_count": 54,
   "metadata": {},
   "outputs": [],
   "source": [
    "# Load and check the index\n",
    "index = pc.Index(index_name)\n",
    "\n",
    "# Set up the embedding model\n",
    "embedding_model = OpenAIEmbeddings(model=\"text-embedding-ada-002\", show_progress_bar=False)\n",
    "# Initialize the vector store with the embedding model and index\n",
    "vectorstore = PineconeVectorStore(index=index, embedding=embedding_model)"
   ]
  },
  {
   "cell_type": "markdown",
   "metadata": {},
   "source": [
    "### Embedding and Upserting to Pinecone"
   ]
  },
  {
   "cell_type": "code",
   "execution_count": 55,
   "metadata": {},
   "outputs": [],
   "source": [
    "# Function to convert string representations of dictionaries to actual dictionaries\n",
    "def str_to_dict(s):\n",
    "    try:\n",
    "        return ast.literal_eval(s)\n",
    "    except (ValueError, SyntaxError):\n",
    "        return {}\n",
    "\n",
    "# Apply the conversion to the 'tables_html' column\n",
    "book_df['tables_html'] = book_df['tables_html'].apply(str_to_dict)\n",
    "book_df['chapter'] = book_df['chapter'].fillna('Unknown Chapter')"
   ]
  },
  {
   "cell_type": "code",
   "execution_count": 56,
   "metadata": {},
   "outputs": [
    {
     "data": {
      "application/vnd.jupyter.widget-view+json": {
       "model_id": "2dd4a5a0c6524ae09ed20cc131a2f64d",
       "version_major": 2,
       "version_minor": 0
      },
      "text/plain": [
       "Embedding and Upserting to Pinecone:   0%|          | 0/340 [00:00<?, ?it/s]"
      ]
     },
     "metadata": {},
     "output_type": "display_data"
    }
   ],
   "source": [
    "# Process each row (page) for Pinecone vector storage\n",
    "for _, row in tqdm(book_df.iterrows(), total=len(book_df), desc=\"Embedding and Upserting to Pinecone\"):\n",
    "    docs = []\n",
    "    vector_ids = []\n",
    "\n",
    "    # Split page content\n",
    "    chunks = text_splitter.split_text(row[\"page_content\"])\n",
    "    \n",
    "    for i, chunk in enumerate(chunks):\n",
    "        doc = Document(\n",
    "            page_content=chunk,\n",
    "            metadata={\n",
    "                'source': 'book',\n",
    "                'page_number': row['page_number'],\n",
    "                'chapter': row['chapter'],\n",
    "                'chunk_index': i,\n",
    "                'content_type': 'text'\n",
    "            }\n",
    "        )\n",
    "        docs.append(doc)\n",
    "        vector_ids.append(f\"page{row['page_number']}_chunk{i}\")  # Unique ID for each text chunk\n",
    "\n",
    "    # Embed each HTML table directly and save the HTML as metadata\n",
    "    for i, (table_key, table_html) in enumerate(row.get('tables_html', {}).items()):\n",
    "        doc = Document(\n",
    "            page_content=table_html,  # Embedding the HTML directly\n",
    "            metadata={\n",
    "                'source': 'book',\n",
    "                'page_number': row['page_number'],\n",
    "                'chapter': row['chapter'],\n",
    "                'table_title': table_key,\n",
    "                'content_type': 'table',\n",
    "                'html': table_html  # Store original HTML for retrieval\n",
    "            }\n",
    "        )\n",
    "        docs.append(doc)\n",
    "        vector_ids.append(f\"page{row['page_number']}_table{i}\")  # Unique ID for each table\n",
    "\n",
    "    # Add all documents to the vector store in one batch\n",
    "    vectorstore.add_documents(docs, ids=vector_ids)"
   ]
  },
  {
   "cell_type": "code",
   "execution_count": 57,
   "metadata": {},
   "outputs": [
    {
     "data": {
      "application/vnd.jupyter.widget-view+json": {
       "model_id": "f94691565a134ad18acd18186b262a35",
       "version_major": 2,
       "version_minor": 0
      },
      "text/plain": [
       "Embedding and Upserting to Pinecone:   0%|          | 0/7 [00:00<?, ?it/s]"
      ]
     },
     "metadata": {},
     "output_type": "display_data"
    },
    {
     "name": "stdout",
     "output_type": "stream",
     "text": [
      "Documents successfully upserted to Pinecone.\n"
     ]
    }
   ],
   "source": [
    "# Process each video for Pinecone vector storage\n",
    "for _, row in tqdm(video_df.iterrows(), total=len(video_df), desc=\"Embedding and Upserting to Pinecone\"):\n",
    "\n",
    "    docs = []\n",
    "    vector_ids = []\n",
    "\n",
    "    for i, chunk in enumerate(row[\"chunks\"]):\n",
    "        \n",
    "        # Update each chunk's metadata to include both video-level and chunk-level details        \n",
    "        chunk.metadata.update({\n",
    "            \"source\": \"video\",\n",
    "            \"video_id\": row[\"video_id\"],\n",
    "            \"short_title\": row[\"short_title\"],\n",
    "            \"title\": row[\"title\"],\n",
    "            \"description\": row[\"description\"],\n",
    "            \"channel\": row[\"channel\"],\n",
    "            \"topic\": row[\"topic\"],\n",
    "            #\"step\": row.get(\"specific_step\", \"\"),  # e.g., \"ability_scores\"\n",
    "        })\n",
    "        \n",
    "        # Append the Document and vector ID\n",
    "        docs.append(chunk)\n",
    "        vector_ids.append(f\"{row['video_id']}_{i}\") # Unique ID for each chunk\n",
    "    \n",
    "    # Upsert documents into Pinecone vector store with unique vector IDs and namespace\n",
    "    #vectorstore.add_documents(docs, ids=vector_ids, namespace=\"character_creation\")\n",
    "    vectorstore.add_documents(docs, ids=vector_ids)\n",
    "\n",
    "print(\"Documents successfully upserted to Pinecone.\")"
   ]
  },
  {
   "cell_type": "code",
   "execution_count": 59,
   "metadata": {},
   "outputs": [
    {
     "data": {
      "text/plain": [
       "{'dimension': 1536,\n",
       " 'index_fullness': 0.0,\n",
       " 'namespaces': {'': {'vector_count': 1067}},\n",
       " 'total_vector_count': 1067}"
      ]
     },
     "execution_count": 59,
     "metadata": {},
     "output_type": "execute_result"
    }
   ],
   "source": [
    "index.describe_index_stats()"
   ]
  },
  {
   "cell_type": "markdown",
   "metadata": {},
   "source": [
    "## Retrievers"
   ]
  },
  {
   "cell_type": "markdown",
   "metadata": {},
   "source": [
    "LangChain’s PineconeVectorStore supports multiple search_type options, each optimized for different retrieval needs. Here are the main search_type options:\n",
    "\n",
    "Similarity Search (search_type=\"similarity\"):\n",
    "\n",
    "This is the default search type and retrieves documents based on their cosine similarity or dot product with the query embedding.\n",
    "It ranks documents purely based on their similarity score, making it suitable when only the closest matches are needed, without concerns for diversity.\n",
    "Use case: Ideal when the goal is to retrieve the most relevant documents without prioritizing variety.\n",
    "\n",
    "Maximal Marginal Relevance (MMR) Search (search_type=\"mmr\"):\n",
    "\n",
    "Balances similarity and diversity in the results, optimizing for cases where the user may benefit from a range of perspectives or different aspects of a topic.\n",
    "It fetches a set number of documents (fetch_k) based on similarity, then uses lambda_mult to balance similarity and diversity.\n",
    "Use case: Particularly useful in retrieval-augmented generation (RAG) scenarios where repeated content should be avoided, such as in summarization or answering open-ended questions.\n",
    "\n",
    "Similarity Score Threshold (search_type=\"similarity_score_threshold\"):\n",
    "\n",
    "Filters documents based on a minimum similarity threshold (score_threshold), so only documents with a similarity score above this threshold are returned.\n",
    "Allows for more targeted retrieval, ensuring results meet a certain relevance standard before being considered.\n",
    "Use case: Useful in cases where only highly relevant documents are desired, and less relevant matches should be excluded."
   ]
  },
  {
   "cell_type": "code",
   "execution_count": 60,
   "metadata": {},
   "outputs": [],
   "source": [
    "# Define the filter for metadata\n",
    "filter_criteria = {\n",
    "    #\"source\": \"book\",\n",
    "    #\"topic\": \"StepByStep\",\n",
    "    #\"channel\": \"WASD20\",\n",
    "}"
   ]
  },
  {
   "cell_type": "code",
   "execution_count": 61,
   "metadata": {},
   "outputs": [],
   "source": [
    "# Basic similarity search\n",
    "retriever_similarity = vectorstore.as_retriever(\n",
    "    search_type=\"similarity\",\n",
    "    search_kwargs={\n",
    "        \"k\": 5, # Number of documents to retrieve (default: 4)\n",
    "        \"filter\":filter_criteria,\n",
    "        })\n",
    "\n",
    "# MMR search with diversity\n",
    "retriever_mmr = vectorstore.as_retriever(\n",
    "    search_type=\"mmr\",\n",
    "    search_kwargs={\n",
    "        \"k\": 5, # k is the number of final documents to retrieve from MMR\n",
    "        \"fetch_k\": 10, # Determines the number of documents to initially fetch from the vector store before applying MMR\n",
    "        \"lambda_mult\": 0.5, # Controls the balance between relevance and diversity in MMR\n",
    "        \"filter\":filter_criteria,\n",
    "    })\n",
    "\n",
    "# Similarity score threshold search\n",
    "retriever_threshold = vectorstore.as_retriever(\n",
    "    search_type=\"similarity_score_threshold\",\n",
    "    search_kwargs={\n",
    "        \"k\": 5,\n",
    "        \"score_threshold\": 0.8, # Only retrieves if score >= 0.8\n",
    "        \"filter\":filter_criteria,\n",
    "        })"
   ]
  },
  {
   "cell_type": "code",
   "execution_count": 62,
   "metadata": {},
   "outputs": [],
   "source": [
    "retriever_tool = create_retriever_tool(\n",
    "    retriever_similarity,\n",
    "    name=\"DnD_Retriever\",\n",
    "    description=\"Retrieve information about Dungeons and Dragons character creation from video transcripts.\",\n",
    ")\n",
    "tools = [retriever_tool]"
   ]
  },
  {
   "cell_type": "markdown",
   "metadata": {},
   "source": [
    "## LangGraph (Adaptive Rag)"
   ]
  },
  {
   "cell_type": "code",
   "execution_count": 63,
   "metadata": {},
   "outputs": [],
   "source": [
    "class AgentState(TypedDict):\n",
    "    \"\"\"\n",
    "    Represents the state of the grapgh and the agent.\n",
    "    Storing conversation messages in a list that grows throughout the session.\n",
    "\n",
    "    Attributes:\n",
    "        messages: Sequence of messages exchanged in the conversation.\n",
    "        question: The user's current question.\n",
    "        generation: The generated response from the language model.\n",
    "        documents: List of documents retrieved relevant to the question.\n",
    "    \"\"\"\n",
    "    messages: Annotated[Sequence[BaseMessage], add_messages]\n",
    "    question: str\n",
    "    generation: str\n",
    "    documents: List[str]"
   ]
  },
  {
   "cell_type": "markdown",
   "metadata": {},
   "source": [
    "### Data Models"
   ]
  },
  {
   "cell_type": "code",
   "execution_count": 64,
   "metadata": {},
   "outputs": [],
   "source": [
    "# Route Query\n",
    "class RouteQuery(BaseModel):\n",
    "    \"\"\"Route a user query to a retriever or to a generative llm.\"\"\"\n",
    "\n",
    "    route: Literal[\"retriever\", \"generative_llm\"] = Field(\n",
    "        ...,\n",
    "        description=\"\\\n",
    "            Determine whether to route the user question to the vectorstore\\\n",
    "            through a retriever or to the generative language model's\\\n",
    "            if it's not related to DnD's character creation.\",\n",
    "    )\n",
    "    \n",
    "    \n",
    "# Grade Documents\n",
    "class GradeDocuments(BaseModel):\n",
    "    \"\"\"Binary score for relevance check on retrieved documents.\"\"\"\n",
    "\n",
    "    binary_score: str = Field(\n",
    "        description=\"\\\n",
    "            Documents are relevant to the question, 'yes' or 'no'\",\n",
    "    )\n",
    "\n",
    "\n",
    "# Grade Hallucinations\n",
    "class GradeHallucinations(BaseModel):\n",
    "    \"\"\"Binary score for hallucination present in generation answer.\"\"\"\n",
    "\n",
    "    binary_score: str = Field(\n",
    "        description=\"Answer is grounded in the facts, 'yes' or 'no'\"\n",
    "    )"
   ]
  },
  {
   "cell_type": "markdown",
   "metadata": {},
   "source": [
    "### Prompts and Chains"
   ]
  },
  {
   "cell_type": "code",
   "execution_count": 65,
   "metadata": {},
   "outputs": [],
   "source": [
    "# Prompt for routing the query\n",
    "system = \"\"\"\n",
    "You are an expert at routing a user question to a retriever or to a generative llm.\\n\n",
    "The retriever accesses a vectorstore with documents related to DnD (Dungeon & Dragons) character creation.\\n\n",
    "Use the retriever for questions on these topics. Otherwise, use the llm generation.\"\"\"\n",
    "route_prompt = ChatPromptTemplate.from_messages([\n",
    "    (\"system\", system),\n",
    "    (\"human\", \"{question}\"),\n",
    "])\n",
    "# Chain (TODO: \"llm\" could be tweaked if needed)\n",
    "question_router = route_prompt | llm.with_structured_output(RouteQuery)\n",
    "\n",
    "\n",
    "# Prompt for grading documents\n",
    "system = \"\"\"\n",
    "You are a grader assessing relevance of a retrieved document to a user question.\\n\n",
    "If the document contains keyword(s) or semantic meaning related to the user question, grade it as relevant.\\n\n",
    "It does not need to be a stringent test. The goal is to filter out erroneous retrievals.\\n\n",
    "Give a binary score 'yes' or 'no' score to indicate whether the document is relevant to the question.\"\"\"\n",
    "doc_grade_prompt = ChatPromptTemplate.from_messages([\n",
    "    (\"system\", system),\n",
    "    (\"human\", \"Retrieved document: \\n\\n {document} \\n\\n User question: {question}\"),\n",
    "])\n",
    "# Chain (TODO: \"llm\" could be tweaked if needed)\n",
    "retrieval_grader = doc_grade_prompt | llm.with_structured_output(GradeDocuments)\n",
    "\n",
    "\n",
    "# Prompt for hallucination check\n",
    "system = \"\"\"\n",
    "You are a grader assessing whether an LLM generation is grounded in / supported by a set of retrieved facts.\\n\n",
    "Give a binary score 'yes' or 'no'. 'Yes' means that the answer is grounded in / supported by the set of facts.\"\"\"\n",
    "hallucination_prompt = ChatPromptTemplate.from_messages([\n",
    "    (\"system\", system),\n",
    "    (\"human\", \"Set of facts: \\n\\n {documents} \\n\\n LLM generation: {generation}\"),\n",
    "])\n",
    "# Chain (TODO: \"llm\" could be tweaked if needed)\n",
    "hallucination_grader = hallucination_prompt | llm.with_structured_output(GradeHallucinations)\n",
    "\n",
    "\n",
    "# Prompt for question rewriter\n",
    "system = \"\"\"\n",
    "You are a question re-writer that converts an input question to a better version that is optimized\n",
    "for vectorstore retrieval. Look at the input and try to reason about the underlying semantic intent / meaning.\"\"\"\n",
    "rewrite_prompt = ChatPromptTemplate.from_messages([\n",
    "        (\"system\", system),\n",
    "        (\"human\", \"Here is the initial question: \\n\\n {question} \\n\\n Formulate an improved question.\"),\n",
    "])\n",
    "# Chain (TODO: \"llm\" could be tweaked if needed)\n",
    "question_rewriter = rewrite_prompt | llm | StrOutputParser()\n",
    "\n",
    "\n",
    "# Prompt for generating answer\n",
    "system = \"\"\"\n",
    "You are an assistant for question-answering tasks. \\n\n",
    "You are specialized in Dungeons & Dragons character creation. \\n\n",
    "Use the following pieces of retrieved context to answer the question. \\n\n",
    "If you don't know the answer, just say that you don't know. \\n\n",
    "Use three sentences maximum and keep the answer concise and educational.\"\"\"\n",
    "generate_prompt = ChatPromptTemplate.from_messages([\n",
    "    (\"system\", system),\n",
    "    (\"human\", \"{conversation_history}\"),\n",
    "    (\"human\", \"Question: \\n\\n {question} \\n\\n Context: {context}\")\n",
    "])\n",
    "# Chain (TODO: \"llm\" could be tweaked if needed)\n",
    "rag_chain = generate_prompt | llm | StrOutputParser()\n"
   ]
  },
  {
   "cell_type": "markdown",
   "metadata": {},
   "source": [
    "### Functions"
   ]
  },
  {
   "cell_type": "code",
   "execution_count": 66,
   "metadata": {},
   "outputs": [],
   "source": [
    "### Node Functions\n",
    "\n",
    "# Retrieve relevant documents\n",
    "def retrieve_docs(state):\n",
    "    print(\"---RETRIEVE FROM VECTORSTORE---\")\n",
    "    documents = retriever_similarity.invoke(state[\"question\"])\n",
    "    state[\"documents\"] = documents\n",
    "    return {\"documents\": documents}\n",
    "\n",
    "\n",
    "# Grade documents for relevance\n",
    "def grade_documents(state):\n",
    "    \"\"\" Determines whether the retrieved documents are relevant to the question. \"\"\"\n",
    "    print(\"---CHECK DOCUMENT RELEVANCE TO QUESTION---\")\n",
    "    question = state[\"question\"]\n",
    "    documents = state[\"documents\"]\n",
    "\n",
    "    # Score each doc\n",
    "    filtered_docs = []\n",
    "    for d in documents:\n",
    "        score = retrieval_grader.invoke(\n",
    "            {\"question\": question, \"document\": d}\n",
    "        )\n",
    "        grade = score.binary_score\n",
    "        if grade == \"yes\":\n",
    "            filtered_docs.append(d)\n",
    "        else:\n",
    "            continue\n",
    "    print(f\"--- ---RELEVANT DOCUMENTS: {len(filtered_docs)}/{len(documents)}---\")\n",
    "    return {\"documents\": filtered_docs, \"question\": question}\n",
    "\n",
    "\n",
    "def format_conversation_history(messages):\n",
    "    \"\"\"Format the conversation history into a string.\"\"\"\n",
    "    conversation_history = \"\"\n",
    "    for message in messages:\n",
    "        if isinstance(message, HumanMessage):\n",
    "            conversation_history += f\"User: {message.content}\\n\"\n",
    "        elif isinstance(message, AIMessage):\n",
    "            conversation_history += f\"Assistant: {message.content}\\n\"\n",
    "        else:\n",
    "            conversation_history += f\"{message.__class__.__name__}: {message.content}\\n\"\n",
    "    return conversation_history.strip()\n",
    "\n",
    "def generate_answer(state):\n",
    "    \"\"\"Generate a response based on the documents or internal knowledge.\"\"\"\n",
    "    print(\"---GENERATE---\")\n",
    "    question = state[\"question\"]\n",
    "    documents = state[\"documents\"]\n",
    "    messages = state[\"messages\"].copy()  # Copy the conversation history\n",
    "\n",
    "    # Build the conversation history as a formatted string\n",
    "    conversation_history = format_conversation_history(messages)\n",
    "\n",
    "    # Extract text content from each Document\n",
    "    context = \"\\n\".join([doc.page_content for doc in documents])\n",
    "\n",
    "    # Prepare inputs for the chain\n",
    "    inputs = {\n",
    "        \"conversation_history\": conversation_history,\n",
    "        \"context\": context,\n",
    "        \"question\": question\n",
    "    }\n",
    "\n",
    "    # Generate the answer using rag_chain\n",
    "    generation = rag_chain.invoke(inputs)\n",
    "\n",
    "    # Append the current question and the AI's response to the conversation history\n",
    "    messages.append(HumanMessage(content=question))\n",
    "    messages.append(AIMessage(content=generation))\n",
    "\n",
    "    # Return the updated messages and generation\n",
    "    return {\"messages\": messages, \"generation\": generation}\n",
    "\n",
    "\n",
    "def generate_answer_direct(state):\n",
    "    \"\"\"Generate a response based on internal knowledge.\"\"\"\n",
    "    print(\"---GENERATE DIRECTLY---\")\n",
    "    question = state[\"question\"]\n",
    "    messages = state[\"messages\"].copy()  # Copy the conversation history\n",
    "\n",
    "    # Append the current question to the conversation history\n",
    "    messages.append(HumanMessage(content=question))\n",
    "\n",
    "    # Generate the answer using the conversation history\n",
    "    generation = llm.invoke(messages)\n",
    "\n",
    "    # Append the AI's response to the conversation history\n",
    "    messages.append(AIMessage(content=generation.content))\n",
    "\n",
    "    # Return the updated messages and generation\n",
    "    return {\"messages\": messages, \"generation\": generation.content}\n",
    "\n",
    "\n",
    "# Transform the query if initial retrieval is not useful\n",
    "def rewrite_query(state):\n",
    "    \"\"\" Transform the query to produce a better question. \"\"\"\n",
    "    print(\"---TRANSFORM QUERY---\")\n",
    "    question = state[\"question\"]\n",
    "    documents = state[\"documents\"]\n",
    "\n",
    "    # Re-write question\n",
    "    better_question = question_rewriter.invoke({\"question\": question})\n",
    "    return {\"documents\": documents, \"question\": better_question}"
   ]
  },
  {
   "cell_type": "code",
   "execution_count": 67,
   "metadata": {},
   "outputs": [],
   "source": [
    "### Conditional Edge Functions\n",
    "\n",
    "# Route the question based on its content\n",
    "def decide_retrieve_generate(state):\n",
    "    \"\"\" Determines whether to retrieve relevant documents or generate an answer directly.\"\"\"\n",
    "    print(\"---ROUTE QUESTION---\")\n",
    "    question = state[\"question\"]\n",
    "    \n",
    "    next_action = question_router.invoke({\"question\": question})\n",
    "    if next_action.route == \"retriever\":\n",
    "        print(\"\\t---ROUTE QUESTION TO VECTORSTORE---\")\n",
    "        return \"to_retrieve\"\n",
    "    else:\n",
    "        print(\"\\t---ROUTE QUESTION TO LLM---\")\n",
    "        return \"to_generate\"\n",
    "\n",
    "\n",
    "def decide_generate_rewrite(state): # TODO: Change name\n",
    "    \"\"\" Determines whether to generate an answer, or re-generate a question. \"\"\"\n",
    "\n",
    "    print(\"---ASSESS GRADED DOCUMENTS---\")\n",
    "    state[\"question\"]\n",
    "    filtered_documents = state[\"documents\"]\n",
    "\n",
    "    if filtered_documents:\n",
    "        print(\"\\t---DECISION: GENERATE---\")\n",
    "        return \"relevant\"\n",
    "    else:\n",
    "        print(\"\\t---DECISION: NO DOCUMENT IS RELEVANT, TRANSFORM QUERY---\")\n",
    "        return \"not_relevant\"\n",
    "    \n",
    "def decide_end_rewrite(state):\n",
    "    \"\"\" Determines whether the generation is grounded in the document and answers question. \"\"\"\n",
    "\n",
    "    print(\"---CHECK HALLUCINATIONS---\")\n",
    "    documents = state[\"documents\"]\n",
    "    generation = state[\"generation\"]\n",
    "\n",
    "    score = hallucination_grader.invoke(\n",
    "        {\"documents\": documents, \"generation\": generation}\n",
    "    )\n",
    "    grade = score.binary_score\n",
    "\n",
    "    # Check hallucination\n",
    "    if grade == \"yes\":\n",
    "        print(\"\\t---DECISION: GENERATION IS GROUNDED IN DOCUMENTS, END---\")\n",
    "        return \"grounded\"\n",
    "    else:\n",
    "        print(\"\\t---DECISION: GENERATION IS AN HALLUCINATION, REWRITE---\")\n",
    "        return \"hallucination\""
   ]
  },
  {
   "cell_type": "markdown",
   "metadata": {},
   "source": [
    "### Graph Construction"
   ]
  },
  {
   "cell_type": "code",
   "execution_count": 68,
   "metadata": {},
   "outputs": [],
   "source": [
    "memory = MemorySaver()\n",
    "\n",
    "# Create the workflow\n",
    "workflow = StateGraph(AgentState)\n",
    "\n",
    "# Add nodes\n",
    "workflow.add_node(\"retrieve\", retrieve_docs)\n",
    "workflow.add_node(\"generate\", generate_answer)\n",
    "workflow.add_node(\"generate_direct\", generate_answer_direct)\n",
    "workflow.add_node(\"grade_documents\", grade_documents)\n",
    "workflow.add_node(\"rewrite_query\", rewrite_query)\n",
    "\n",
    "# Define edges based on the workflow\n",
    "# Start with routing the question to decide between retrieval or direct generation\n",
    "workflow.add_conditional_edges(START, decide_retrieve_generate, {\n",
    "    \"to_retrieve\": \"retrieve\",\n",
    "    \"to_generate\": \"generate_direct\"\n",
    "})\n",
    "workflow.add_edge(\"generate_direct\", END)\n",
    "\n",
    "workflow.add_edge(\"retrieve\", \"grade_documents\")\n",
    "\n",
    "workflow.add_conditional_edges(\"grade_documents\", decide_generate_rewrite, {\n",
    "    \"relevant\": \"generate\",\n",
    "    \"not_relevant\": \"rewrite_query\"\n",
    "})\n",
    "workflow.add_edge(\"rewrite_query\", \"retrieve\")\n",
    "\n",
    "workflow.add_conditional_edges(\"generate\", decide_end_rewrite, {\n",
    "    \"grounded\": END,\n",
    "    \"hallucination\": \"rewrite_query\"\n",
    "})\n",
    "\n",
    "# Compile the workflow\n",
    "app = workflow.compile(checkpointer=memory)"
   ]
  },
  {
   "cell_type": "code",
   "execution_count": 69,
   "metadata": {},
   "outputs": [
    {
     "data": {
      "image/jpeg": "[encoded data removed]",
      "text/plain": [
       "<IPython.core.display.Image object>"
      ]
     },
     "metadata": {},
     "output_type": "display_data"
    }
   ],
   "source": [
    "try:\n",
    "    display(Image(app.get_graph(xray=True).draw_mermaid_png()))\n",
    "except Exception:\n",
    "    # This requires some extra dependencies and is optional\n",
    "    pass"
   ]
  },
  {
   "cell_type": "markdown",
   "metadata": {},
   "source": [
    "### Graph Execution"
   ]
  },
  {
   "cell_type": "code",
   "execution_count": 70,
   "metadata": {},
   "outputs": [],
   "source": [
    "# TODO: Add Description\n",
    "def initialize_state() -> AgentState:\n",
    "    # Initialize a new state according to AgentState structure\n",
    "    return AgentState(\n",
    "        messages=[],\n",
    "        question=\"\",\n",
    "        generation=\"\",\n",
    "        documents=[],\n",
    "    )\n",
    "\n",
    "\n",
    "# WIP\n",
    "def stream_app(state: AgentState, user_query: str):\n",
    "\n",
    "    # Update the state with the user's query\n",
    "    state[\"question\"] = user_query\n",
    "\n",
    "    for output in app.stream(state):\n",
    "        # Process the output from the agent\n",
    "        for key, value in output.items():\n",
    "            print(f\"Node: '{key}':\")\n",
    "            #pprint(value, indent=4, width=100)\n",
    "            print(\"*\"+\"-\"*40+\"*\")\n",
    "    \n",
    "    pprint(state[\"messages\"][-1])\n",
    "    \n",
    "    \n",
    "def call_app(state: AgentState, user_query: str, thread_id: str):\n",
    "    \"\"\"Handles user input and invokes the app to generate a response.\"\"\"\n",
    "    # Update the state with the user's query\n",
    "    state[\"question\"] = user_query\n",
    "\n",
    "    # Invoke the app with the updated state\n",
    "    result = app.invoke(state, config={\"configurable\": {\"thread_id\": thread_id}})\n",
    "    \n",
    "    # Update the state with the result to maintain the conversation history\n",
    "    state[\"messages\"] = result[\"messages\"]\n",
    "\n",
    "    # Optionally, return the assistant's response\n",
    "    return result[\"generation\"]\n",
    "\n",
    "\n",
    "def display_conversation_history(state: AgentState):\n",
    "    \"\"\"Display the conversation history stored in the agent's state.\"\"\"\n",
    "    for message in state['messages']:\n",
    "        if isinstance(message, HumanMessage):\n",
    "            print(f\"User: {message.content}\")\n",
    "        elif isinstance(message, AIMessage):\n",
    "            print(f\"Assistant: {message.content}\")\n",
    "        else:\n",
    "            # Handle any other message types if necessary\n",
    "            print(f\"{message.__class__.__name__}: {message.content}\")"
   ]
  },
  {
   "cell_type": "code",
   "execution_count": 71,
   "metadata": {},
   "outputs": [],
   "source": [
    "# Initialize the agent state\n",
    "state = initialize_state()\n",
    "# Generate a new unique thread_id\n",
    "thread_id = str(uuid.uuid4())"
   ]
  },
  {
   "cell_type": "code",
   "execution_count": 83,
   "metadata": {},
   "outputs": [
    {
     "name": "stdout",
     "output_type": "stream",
     "text": [
      "---ROUTE QUESTION---\n",
      "\t---ROUTE QUESTION TO LLM---\n",
      "---GENERATE DIRECTLY---\n"
     ]
    }
   ],
   "source": [
    "response = call_app(state, \"How can I ensure my DnD character is deep and rich in personality and has an interesting character arch?\", thread_id)"
   ]
  },
  {
   "cell_type": "code",
   "execution_count": 82,
   "metadata": {},
   "outputs": [
    {
     "name": "stdout",
     "output_type": "stream",
     "text": [
      "('In Dungeons & Dragons, there are twelve main classes available for character '\n",
      " 'creation, each with unique abilities and playstyles. The classes are '\n",
      " 'Barbarian, Bard, Cleric, Druid, Fighter, Monk, Paladin, Ranger, Rogue, '\n",
      " 'Sorcerer, Warlock, and Wizard. Each class also has multiple subclasses that '\n",
      " \"further define a character's abilities and role in the game.\")\n"
     ]
    }
   ],
   "source": [
    "pprint(response)"
   ]
  },
  {
   "cell_type": "code",
   "execution_count": 73,
   "metadata": {},
   "outputs": [
    {
     "data": {
      "text/plain": [
       "' response = call_app(state, \"Hello, my name is Javi\", thread_id)\\nresponse = call_app(state, \"What\\'s my name?\", thread_id)\\nresponse = call_app(state, \"How do ability modifiers work in Dnd?\", thread_id) '"
      ]
     },
     "execution_count": 73,
     "metadata": {},
     "output_type": "execute_result"
    }
   ],
   "source": [
    "\"\"\" response = call_app(state, \"Hello, my name is Javi\", thread_id)\n",
    "response = call_app(state, \"What's my name?\", thread_id)\n",
    "response = call_app(state, \"How do ability modifiers work in Dnd?\", thread_id) \"\"\""
   ]
  },
  {
   "cell_type": "code",
   "execution_count": 74,
   "metadata": {},
   "outputs": [
    {
     "name": "stdout",
     "output_type": "stream",
     "text": [
      "User: How do ability modifiers work in Dnd?\n",
      "Assistant: In Dungeons & Dragons (D&D), ability modifiers are numerical values that represent a character's proficiency in various abilities. These modifiers are derived from a character's ability scores, which range from 1 to 20 (or higher in some cases). The six core abilities in D&D are:\n",
      "\n",
      "1. **Strength**: Measures physical power and carrying capacity.\n",
      "2. **Dexterity**: Measures agility, reflexes, and balance.\n",
      "3. **Constitution**: Measures health, stamina, and resilience.\n",
      "4. **Intelligence**: Measures reasoning, memory, and learning ability.\n",
      "5. **Wisdom**: Measures perception, insight, and intuition.\n",
      "6. **Charisma**: Measures force of personality, persuasiveness, and leadership.\n",
      "\n",
      "### Calculating Ability Modifiers\n",
      "\n",
      "The ability modifier for each ability score is calculated using the following formula:\n",
      "\n",
      "\\[\n",
      "\\text{Modifier} = \\left(\\text{Ability Score} - 10\\right) \\div 2\n",
      "\\]\n",
      "\n",
      "You round down to the nearest whole number. Here are some examples:\n",
      "\n",
      "- An ability score of 10 or 11 has a modifier of **0**.\n",
      "- An ability score of 12 or 13 has a modifier of **+1**.\n",
      "- An ability score of 14 or 15 has a modifier of **+2**.\n",
      "- An ability score of 16 or 17 has a modifier of **+3**.\n",
      "- An ability score of 18 or 19 has a modifier of **+4**.\n",
      "- An ability score of 20 has a modifier of **+5**.\n",
      "\n",
      "### Using Ability Modifiers\n",
      "\n",
      "Ability modifiers are used in various aspects of gameplay, including:\n",
      "\n",
      "1. **Attack Rolls**: For melee attacks, you typically add your Strength modifier; for ranged attacks, you add your Dexterity modifier.\n",
      "2. **Damage Rolls**: When dealing damage, you often add your Strength modifier (for melee) or Dexterity modifier (for ranged) to the damage roll.\n",
      "3. **Skill Checks**: Each skill is associated with one of the six abilities. You add the relevant ability modifier to your roll when making a skill check.\n",
      "4. **Saving Throws**: When making saving throws, you add the relevant ability modifier based on the type of saving throw (e.g., Strength saving throw uses the Strength modifier).\n",
      "5. **Hit Points**: Your Constitution modifier is added to your hit points at 1st level and whenever you gain a level.\n",
      "\n",
      "### Other Considerations\n",
      "\n",
      "- **Racial Bonuses**: Some races provide bonuses to specific ability scores, which can affect the modifiers.\n",
      "- **Proficiency Bonus**: In addition to ability modifiers, characters may have a proficiency bonus that applies to certain rolls if they are proficient in a skill, weapon, or saving throw.\n",
      "- **Magic and Effects**: Various spells, items, and abilities can temporarily or permanently alter ability scores and modifiers.\n",
      "\n",
      "Understanding ability modifiers is crucial for character creation and gameplay, as they significantly influence a character's effectiveness in various situations.\n"
     ]
    }
   ],
   "source": [
    "display_conversation_history(state)"
   ]
  },
  {
   "cell_type": "markdown",
   "metadata": {},
   "source": [
    "## Gradio"
   ]
  },
  {
   "cell_type": "code",
   "execution_count": 75,
   "metadata": {},
   "outputs": [],
   "source": [
    "#!pip install -U gradio"
   ]
  },
  {
   "cell_type": "markdown",
   "metadata": {},
   "source": [
    "### Simple Gradio"
   ]
  },
  {
   "cell_type": "code",
   "execution_count": 76,
   "metadata": {},
   "outputs": [
    {
     "name": "stderr",
     "output_type": "stream",
     "text": [
      "c:\\Users\\Javi\\anaconda3\\envs\\FinalProyect\\Lib\\site-packages\\gradio\\utils.py:999: UserWarning: Expected 3 arguments for function <function predict at 0x000001E4EE64D3A0>, received 2.\n",
      "  warnings.warn(\n",
      "c:\\Users\\Javi\\anaconda3\\envs\\FinalProyect\\Lib\\site-packages\\gradio\\utils.py:1003: UserWarning: Expected at least 3 arguments for function <function predict at 0x000001E4EE64D3A0>, received 2.\n",
      "  warnings.warn(\n"
     ]
    },
    {
     "name": "stdout",
     "output_type": "stream",
     "text": [
      "* Running on local URL:  http://127.0.0.1:7862\n",
      "\n",
      "To create a public link, set `share=True` in `launch()`.\n"
     ]
    },
    {
     "data": {
      "text/html": [
       "<div><iframe src=\"http://127.0.0.1:7862/\" width=\"100%\" height=\"500\" allow=\"autoplay; camera; microphone; clipboard-read; clipboard-write;\" frameborder=\"0\" allowfullscreen></iframe></div>"
      ],
      "text/plain": [
       "<IPython.core.display.HTML object>"
      ]
     },
     "metadata": {},
     "output_type": "display_data"
    },
    {
     "data": {
      "text/plain": []
     },
     "execution_count": 76,
     "metadata": {},
     "output_type": "execute_result"
    }
   ],
   "source": [
    "from langchain.schema import AIMessage as schema_AIMessage\n",
    "from langchain.schema import HumanMessage as schema_HumanMessage\n",
    "\n",
    "def predict(message, history, thread_id):\n",
    "    # Format history to LangChain-compatible format\n",
    "    history_langchain_format = []\n",
    "    for msg in history:\n",
    "        if msg['role'] == \"user\":\n",
    "            history_langchain_format.append(schema_HumanMessage(content=msg['content']))\n",
    "        elif msg['role'] == \"assistant\":\n",
    "            history_langchain_format.append(schema_AIMessage(content=msg['content']))\n",
    "\n",
    "    # Append the new user message\n",
    "    history_langchain_format.append(schema_HumanMessage(content=message))\n",
    "    \n",
    "    # Prepare the state with the formatted history\n",
    "    state = {\n",
    "        \"messages\": history_langchain_format,\n",
    "        \"question\": message,  # Include the current question for context\n",
    "        \"generation\": \"\",      # Initialize generation as empty\n",
    "        \"documents\": []        # Initialize documents as empty\n",
    "    }\n",
    "    \n",
    "    # Call the graph with the formatted history and get the final result\n",
    "    result = app.invoke(state, config={\"configurable\": {\"thread_id\": thread_id}})\n",
    "    \n",
    "    # Extract the final response content from the result\n",
    "    final_response = result['messages'][-1].content\n",
    "    \n",
    "    # Return response to Gradio\n",
    "    return final_response\n",
    "\n",
    "# Launch Gradio interface\n",
    "gr.ChatInterface(predict, type=\"messages\").launch()"
   ]
  }
 ],
 "metadata": {
  "kernelspec": {
   "display_name": "FinalProyect",
   "language": "python",
   "name": "python3"
  },
  "language_info": {
   "codemirror_mode": {
    "name": "ipython",
    "version": 3
   },
   "file_extension": ".py",
   "mimetype": "text/x-python",
   "name": "python",
   "nbconvert_exporter": "python",
   "pygments_lexer": "ipython3",
   "version": "3.11.10"
  }
 },
 "nbformat": 4,
 "nbformat_minor": 2
}
